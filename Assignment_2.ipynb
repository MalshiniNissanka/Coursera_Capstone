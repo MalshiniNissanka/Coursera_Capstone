{
 "cells": [
  {
   "cell_type": "markdown",
   "metadata": {},
   "source": [
    "### Background and The Problem Statement "
   ]
  },
  {
   "cell_type": "markdown",
   "metadata": {},
   "source": [
    "#### Shopping center means a high profitable business. When it comes to New York city there is a higher possibility to a shopping center be a successful business. Still, staring a new shopping center means a large investment which engage in a higher risk. On the other hand, if it can be done with a proper plan, a higher profit can be obtained from it. Before starting an any business, a research should be done in some criteria. One of most important things should be considered is the suitable location to setup. The profitability of the shopping center directly depends on the place it is situated. For example, if it is place where there are lot of shopping centers, it will quite competitive to be successful. Also, if it is a place isolated from people and other different kind of shops, will be less attractive. Therefore, if there is a way to find a good place for a shopping center in New York in current situation it will be really supportive. \n",
    "\n",
    "\n",
    "### Audience\n",
    "\n",
    "#### There are people who are interested in starting up their own shopping center. When it comes to individual investment the risk is higher. When it comes to find a suitable location, it will be a hassle if them have to do it manually. Therefore, if there is an automatic way, we can find for a good location considering above criteria and so it will be really helpful for the businessmen who are planning to start ne shopping center. \n",
    "\n",
    "\n",
    "\n",
    "\n",
    "\n",
    "\n"
   ]
  },
  {
   "cell_type": "markdown",
   "metadata": {},
   "source": [
    "### Dataset"
   ]
  },
  {
   "cell_type": "markdown",
   "metadata": {},
   "source": [
    "#### In this project I am using the Foursquare location data for New York. I will explore where the shopping centers are situated in New York city. And the places where normally crowded. Using above two information I am planning to find a suitable location to start a new shopping center which is crowded and not in a place dense with shopping centers.  "
   ]
  },
  {
   "cell_type": "code",
   "execution_count": null,
   "metadata": {},
   "outputs": [],
   "source": []
  }
 ],
 "metadata": {
  "kernelspec": {
   "display_name": "Python 3",
   "language": "python",
   "name": "python3"
  },
  "language_info": {
   "codemirror_mode": {
    "name": "ipython",
    "version": 3
   },
   "file_extension": ".py",
   "mimetype": "text/x-python",
   "name": "python",
   "nbconvert_exporter": "python",
   "pygments_lexer": "ipython3",
   "version": "3.7.7"
  }
 },
 "nbformat": 4,
 "nbformat_minor": 4
}
